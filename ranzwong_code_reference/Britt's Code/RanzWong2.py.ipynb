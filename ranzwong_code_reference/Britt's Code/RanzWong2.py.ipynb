{
 "cells": [
  {
   "cell_type": "code",
   "execution_count": 89,
   "metadata": {
    "collapsed": true
   },
   "outputs": [],
   "source": [
    "%matplotlib inline\n",
    "import numpy as np\n",
    "import matplotlib.pyplot as plt\n",
    "import math"
   ]
  },
  {
   "cell_type": "code",
   "execution_count": 90,
   "metadata": {
    "collapsed": true
   },
   "outputs": [],
   "source": [
    "pressure_standard=101325\n",
    "temperature_standard=273.16\n",
    "mean_free_path_standard=6.6E-8"
   ]
  },
  {
   "cell_type": "code",
   "execution_count": 91,
   "metadata": {},
   "outputs": [],
   "source": [
    "pressure=100056\n",
    "temperature=288.37\n",
    "true_air_speed=12\n",
    "radius_ambient=5.3E-6\n",
    "radius_dry=4E-6\n",
    "\n",
    "#radius_ambient=5.085E-6\n",
    "#radius_dry=3.838E-6"
   ]
  },
  {
   "cell_type": "code",
   "execution_count": 92,
   "metadata": {},
   "outputs": [],
   "source": [
    "mean_free_path=mean_free_path_standard*(pressure_standard/pressure)*(temperature/temperature_standard)\n"
   ]
  },
  {
   "cell_type": "code",
   "execution_count": 93,
   "metadata": {},
   "outputs": [],
   "source": [
    "## Dynamic Viscosity\n",
    "if temperature >= 273.16:\n",
    "\n",
    "    dyn_visc=1.718e-5+4.9e-8*(temperature-273.16)\n",
    "    \n",
    "else:\n",
    "    \n",
    "    dyn_visc=1.718e-5+4.9e-8*(temperature-273.16)-1.2e-10*(temperature-273.16)**2\n",
    "\n"
   ]
  },
  {
   "cell_type": "code",
   "execution_count": 94,
   "metadata": {},
   "outputs": [],
   "source": [
    "air_density=pressure/(287.04*temperature)"
   ]
  },
  {
   "cell_type": "code",
   "execution_count": 95,
   "metadata": {},
   "outputs": [],
   "source": [
    "ribbon_width=6.35e-3\n",
    "density_salt=2.163e3\n",
    "volume_salt=(4/3)*math.pi*radius_dry**3\n",
    "mass_salt=volume_salt*density_salt\n",
    "volume_ambient=(4/3)*math.pi*radius_ambient**3\n",
    "volume_water=volume_ambient-volume_salt\n",
    "mass_water=volume_water*1e3\n",
    "particle_density=(mass_salt+mass_water)/volume_ambient"
   ]
  },
  {
   "cell_type": "code",
   "execution_count": 96,
   "metadata": {},
   "outputs": [],
   "source": [
    "y=-1.10*radius_ambient/mean_free_path\n",
    "alpha=1.257+0.400*math.exp(y)\n",
    "cunningham_slip=1+alpha*mean_free_path/radius_ambient\n",
    "psi=cunningham_slip*particle_density*true_air_speed*(2*radius_ambient)**2/(18*dyn_visc*ribbon_width)"
   ]
  },
  {
   "cell_type": "code",
   "execution_count": 97,
   "metadata": {},
   "outputs": [],
   "source": [
    "if psi < 0.125:\n",
    "    collision_efficiency = 0\n",
    "else:\n",
    "    qc=math.sqrt(0.5/psi-1/(16*psi**2))\n",
    "    tc=1/qc*math.atan(4*psi*qc/(4*psi-1))\n",
    "    s1=-0.25/psi+math.sqrt(1/(16*psi**2)+0.5/psi)\n",
    "    s2=-0.25/psi-math.sqrt(1/(16*psi**2)+0.5/psi)\n",
    "    collision_efficiency=(s2-s1)/(s2*math.exp(s1*tc)-s1*math.exp(s2*tc))"
   ]
  },
  {
   "cell_type": "code",
   "execution_count": 98,
   "metadata": {},
   "outputs": [
    {
     "name": "stdout",
     "output_type": "stream",
     "text": [
      "0.7923654839485704\n"
     ]
    }
   ],
   "source": [
    "print (collision_efficiency)"
   ]
  },
  {
   "cell_type": "code",
   "execution_count": null,
   "metadata": {
    "collapsed": true
   },
   "outputs": [],
   "source": []
  }
 ],
 "metadata": {
  "kernelspec": {
   "display_name": "Python 3",
   "language": "python",
   "name": "python3"
  },
  "language_info": {
   "codemirror_mode": {
    "name": "ipython",
    "version": 3
   },
   "file_extension": ".py",
   "mimetype": "text/x-python",
   "name": "python",
   "nbconvert_exporter": "python",
   "pygments_lexer": "ipython3",
   "version": "3.6.1"
  }
 },
 "nbformat": 4,
 "nbformat_minor": 2
}
